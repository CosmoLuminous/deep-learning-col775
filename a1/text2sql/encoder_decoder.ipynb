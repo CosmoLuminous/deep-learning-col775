{
 "cells": [
  {
   "cell_type": "code",
   "execution_count": 40,
   "id": "3aac0710",
   "metadata": {},
   "outputs": [
    {
     "name": "stderr",
     "output_type": "stream",
     "text": [
      "2023-03-29 10:25:27.897230: W tensorflow/stream_executor/platform/default/dso_loader.cc:64] Could not load dynamic library 'libcusolver.so.11'; dlerror: libcusolver.so.11: cannot open shared object file: No such file or directory; LD_LIBRARY_PATH: :/usr/local/cuda-11.0/lib64:/usr/local/cuda-11.0/lib64\n",
      "2023-03-29 10:25:27.943496: W tensorflow/stream_executor/platform/default/dso_loader.cc:64] Could not load dynamic library 'libcudnn.so.8'; dlerror: libcudnn.so.8: cannot open shared object file: No such file or directory; LD_LIBRARY_PATH: :/usr/local/cuda-11.0/lib64:/usr/local/cuda-11.0/lib64\n",
      "2023-03-29 10:25:27.943523: W tensorflow/core/common_runtime/gpu/gpu_device.cc:1835] Cannot dlopen some GPU libraries. Please make sure the missing libraries mentioned above are installed properly if you would like to use GPU. Follow the guide at https://www.tensorflow.org/install/gpu for how to download and setup the required libraries for your platform.\n",
      "Skipping registering GPU devices...\n"
     ]
    }
   ],
   "source": [
    "import json\n",
    "from collections import Counter, defaultdict\n",
    "import pickle\n",
    "from utils import *\n",
    "import pandas as pd\n",
    "import torch\n",
    "import torch.nn as nn\n",
    "import torch.nn.functional as F\n",
    "import torch.optim as optim\n",
    "from torch.nn.utils.rnn import pad_sequence\n",
    "from torch.utils.data import Dataset, DataLoader\n",
    "import argparse\n",
    "from torchtext.vocab import GloVe"
   ]
  },
  {
   "cell_type": "code",
   "execution_count": 2,
   "id": "df8f45a8",
   "metadata": {},
   "outputs": [],
   "source": [
    "import spacy\n",
    "nlp = spacy.load('en_core_web_sm')"
   ]
  },
  {
   "cell_type": "code",
   "execution_count": 3,
   "id": "fff7cb3b",
   "metadata": {},
   "outputs": [
    {
     "name": "stdout",
     "output_type": "stream",
     "text": [
      "Dataset Length = 7754\n",
      "Encoder Vocab Size = 2040, Decoder Vocab Size = 2342\n"
     ]
    }
   ],
   "source": [
    "class Text2SQLDataset(Dataset):\n",
    "    def __init__(self, file_path, data_prefix = \"train\"):\n",
    "        self.file_path = file_path\n",
    "        self.data = pd.read_excel(os.path.join(file_path, f\"{data_prefix}_data.xlsx\"))\n",
    "        print(\"Dataset Length =\", len(self.data))\n",
    "        with open(os.path.join(file_path, \"encoder.vocab\"), \"r\") as file:\n",
    "            vocab = file.readlines()\n",
    "        self.encoder_vocab = vocab\n",
    "        \n",
    "        with open(os.path.join(file_path, \"decoder.vocab\"), \"r\") as file:\n",
    "            vocab = file.readlines()\n",
    "        self.decoder_vocab = vocab\n",
    "        \n",
    "        with open(os.path.join(file_path, \"encoder_word2idx.pickle\"), \"rb\") as file:\n",
    "            word2idx = pickle.load(file)\n",
    "        with open(os.path.join(file_path, \"encoder_idx2word.pickle\"), \"rb\") as file:\n",
    "            idx2word = pickle.load(file)\n",
    "            \n",
    "        self.en_word2idx = word2idx\n",
    "        self.en_idx2word = idx2word\n",
    "        \n",
    "        with open(os.path.join(file_path, \"decoder_word2idx.pickle\"), \"rb\") as file:\n",
    "            word2idx = pickle.load(file)\n",
    "        with open(os.path.join(file_path, \"decoder_idx2word.pickle\"), \"rb\") as file:\n",
    "            idx2word = pickle.load(file)\n",
    "            \n",
    "        self.de_word2idx = word2idx\n",
    "        self.de_idx2word = idx2word\n",
    "        print(\"Encoder Vocab Size = {}, Decoder Vocab Size = {}\".format(len(self.en_word2idx), len(self.de_word2idx)))\n",
    "        \n",
    "    def __len__(self):        \n",
    "        return len(self.data)\n",
    "    \n",
    "    def __getitem__(self, idx):\n",
    "#         print(idx, \"\\n\")\n",
    "        try:\n",
    "            query = [\"<sos>\"]\n",
    "            question = [\"<sos>\"]\n",
    "            query = [\"<sos>\"] + tokenize_query(self.data.loc[idx, \"query\"]) + [\"<eos>\"]\n",
    "            question =  [\"<sos>\"] + tokenize_question(self.data.loc[idx, \"question\"]) + [\"<eos>\"]\n",
    "\n",
    "            query = [self.en_word2idx[q] if q in self.en_word2idx else self.en_word2idx[\"<unk>\"] for q in query]\n",
    "            question = [self.en_word2idx[q] if q in self.en_word2idx else self.en_word2idx[\"<unk>\"] for q in question]\n",
    "\n",
    "            sample = {'question': question, 'query': query}\n",
    "        except:\n",
    "            print(idx)\n",
    "            \n",
    "        return sample\n",
    "    \n",
    "def collate(batch):\n",
    "    \n",
    "    max_len_ques = max([len(sample['question']) for sample in batch])\n",
    "    max_len_query = max([len(sample['query']) for sample in batch])\n",
    "    \n",
    "    ques_lens = torch.zeros(len(batch), dtype=torch.long)\n",
    "    padded_ques = torch.zeros((len(batch), max_len_ques), dtype=torch.long)\n",
    "    \n",
    "    query_lens = torch.zeros(len(batch), dtype=torch.long)\n",
    "    padded_query = torch.zeros((len(batch), max_len_query), dtype=torch.long)\n",
    "    \n",
    "    for idx in range(len(batch)):\n",
    "        \n",
    "        query = batch[idx]['query']\n",
    "        question = batch[idx]['question']\n",
    "        \n",
    "        ques_len = len(question)\n",
    "        query_len = len(query)\n",
    "        ques_lens[idx] = ques_len\n",
    "        query_lens[idx] = query_len\n",
    "        \n",
    "        padded_ques[idx, :ques_len] = torch.LongTensor(question)\n",
    "        padded_query[idx, :query_len] = torch.LongTensor(query)\n",
    "        \n",
    "    return {'question': padded_ques, 'query': padded_query, 'ques_lens': query_lens, 'query_lens': query_lens}\n",
    "\n",
    "train_dataset = Text2SQLDataset(\"./processed_data/\", \"train\")"
   ]
  },
  {
   "cell_type": "code",
   "execution_count": 15,
   "id": "3e8020fd",
   "metadata": {},
   "outputs": [],
   "source": [
    "SPECIAL_TOKENS = [\"<pad>\", \"<unk>\", \"<sos>\", \"<eos>\", \"<num_value>\", \"<str_value>\"]\n",
    "SQL_KEYWORDS = [\"t\"+str(i+1) for i in range(10)] + [\".\", \",\", \"(\", \")\", \"in\", \"not\", \"and\", \"between\", \"or\", \"where\",\n",
    "            \"except\", \"union\", \"intersect\",\n",
    "            \"group\", \"by\", \"order\", \"limit\", \"having\",\"asc\", \"desc\",\n",
    "            \"count\", \"sum\", \"avg\", \"max\", \"min\",\n",
    "           \"<\", \">\", \"=\", \"!=\", \">=\", \"<=\",\n",
    "            \"like\",\n",
    "            \"distinct\",\"*\",\n",
    "            \"join\", \"on\", \"as\", \"select\", \"from\"\n",
    "           ] \n",
    "SQL_KEYWORDS = dict(zip(SQL_KEYWORDS, [10]*len(SQL_KEYWORDS)))\n",
    "class GloveEmbeddings():\n",
    "    def __init__(self, embed_dim, word2idx):\n",
    "        self.embed_dim = embed_dim\n",
    "        self.word2idx = word2idx\n",
    "        self.special_tokens = SPECIAL_TOKENS\n",
    "        self.vocab_size = len(word2idx)\n",
    "    \n",
    "    def get_embedding_matrix(self):\n",
    "        # Load pre-trained GloVe embeddings\n",
    "        glove = GloVe(name='6B', dim=self.embed_dim)\n",
    "        embedding_matrix = torch.zeros((self.vocab_size, self.embed_dim))\n",
    "\n",
    "        embedding_matrix[0] = torch.zeros(self.embed_dim)    # Padding token\n",
    "        for i in range(1,len(SPECIAL_TOKENS)):            \n",
    "            embedding_matrix[i] = torch.randn(self.embed_dim)    # Start-of-sentence token\n",
    "            \n",
    "        for k, v in self.word2idx.items():\n",
    "            if k in SPECIAL_TOKENS:\n",
    "                continue\n",
    "            else:            \n",
    "                if k in glove.stoi:\n",
    "                    embedding_matrix[v] = torch.tensor(glove.vectors[glove.stoi[k]])\n",
    "                else:\n",
    "                    embedding_matrix[v] = embedding_matrix[1]\n",
    "#                     print(\"unknown token\", v)\n",
    "\n",
    "        return embedding_matrix\n",
    "\n",
    "\n",
    "class LSTMEncoder(nn.Module):\n",
    "    def __init__(self, input_size, embed_dim, hidden_units=1024, num_layers=1, p = 0.5, bidirectional=False, embed_matrix=None):\n",
    "        super(LSTMEncoder, self).__init__()\n",
    "        self.input_size = input_size\n",
    "        self.embed_dim = embed_dim\n",
    "        self.hidden_units = hidden_units\n",
    "        self.num_layers = num_layers\n",
    "        self.dropout = nn.Dropout(p)\n",
    "        self.bidirectional = bidirectional\n",
    "        self.embed_matrix = None\n",
    "        if self.embed_matrix is not None:\n",
    "            self.embedding = nn.Embedding.from_pretrained(embedding_matrix, padding_idx=0)\n",
    "        else:\n",
    "            self.embedding = nn.Embedding(input_size, self.embed_dim, padding_idx=0)\n",
    "        self.LSTM = nn.LSTM(embed_dim, hidden_units, num_layers = num_layers, dropout=p, batch_first=True, bidirectional=bidirectional)\n",
    "        \n",
    "    def forward(self, x):\n",
    "#         print(\"ENCODER INPUT SHAPE\", x.shape)\n",
    "        x = self.dropout(self.embedding(x))\n",
    "#         print(\"ENCODER EMBEDDING SHAPE\", x.shape)\n",
    "        \n",
    "        encoder_out, (ht, ct) = self.LSTM(x)        \n",
    "#         print(\"ENCODER OUTPUT SHAPE: encoder_out, ht, ct\", encoder_out.shape, ht.shape, ct.shape)\n",
    "        \n",
    "        return encoder_out, (ht, ct)\n",
    "    \n",
    "class LSTMDecoder(nn.Module):\n",
    "    def __init__(self, input_size, embed_dim, hidden_units=1024, num_layers=1, p = 0.5):\n",
    "        super(LSTMDecoder, self).__init__()\n",
    "        self.input_size = input_size\n",
    "        self.embed_dim = embed_dim\n",
    "        self.hidden_units = hidden_units\n",
    "        self.num_layers = num_layers\n",
    "        self.dropout = nn.Dropout(p)\n",
    "        self.embedding = nn.Embedding(input_size, self.embed_dim, padding_idx=0)\n",
    "        self.LSTM = nn.LSTM(embed_dim, hidden_units, num_layers = num_layers, dropout=p, batch_first=True)\n",
    "        self.fc = nn.Linear(hidden_units, input_size)\n",
    "        \n",
    "    def forward(self, x, h0_c0):\n",
    "#         print(\"|== Decoder Input Shape: x, h0_c0\", x.shape, len(h0_c0), h0_c0[0].shape, h0_c0[1].shape)\n",
    "        x = self.dropout(self.embedding(x))\n",
    "#         print(\"|== Decoder Embeddings Shape: x\", x.shape)\n",
    "        x = x.unsqueeze(1)\n",
    "#         print(\"|== Decoder Embeddings unsqueezed(0) Shape: x\", x.shape)\n",
    "        decoder_out, (ht, ct) = self.LSTM(x, h0_c0)\n",
    "#         print(\"|== Decoder Output Shape Shape: decoder_out, ht, ct\", decoder_out.shape, ht.shape, ct.shape)\n",
    "        \n",
    "        out = self.fc(decoder_out)\n",
    "#         print(\"|== Decoder FC OUT Shape: out\", out.shape)\n",
    "        \n",
    "        return out, (ht, ct)\n",
    "    \n",
    "class Seq2Seq(nn.Module):\n",
    "    def __init__(self, args):\n",
    "        super(Seq2Seq, self).__init__()\n",
    "        self.args = args\n",
    "        self.model_type = args.model_type\n",
    "        self.embed_dim = args.embed_dim        \n",
    "        self.encoder_hidden_units = args.en_hidden\n",
    "        self.decoder_hidden_units = args.de_hidden\n",
    "        self.encoder_num_layers = args.en_num_layers\n",
    "        self.decoder_num_layers = args.de_num_layers\n",
    "        self.processed_data = args.processed_data\n",
    "        self.encoder_word2idx = self.get_encoder_word2idx()\n",
    "        self.decoder_word2idx = self.get_decoder_word2idx()\n",
    "        self.encoder_input_size = len(self.encoder_word2idx)\n",
    "        self.decoder_input_size = len(self.decoder_word2idx)\n",
    "        self.encoder = self.get_encoder()\n",
    "        self.decoder = self.get_decoder()\n",
    "        \n",
    "        \n",
    "\n",
    "    def get_encoder_word2idx(self):\n",
    "        with open(os.path.join(self.processed_data, \"encoder_word2idx.pickle\"), \"rb\") as file:\n",
    "            word2idx = pickle.load(file)\n",
    "        with open(os.path.join(self.processed_data, \"encoder_idx2word.pickle\"), \"rb\") as file:\n",
    "            idx2word = pickle.load(file)\n",
    "            \n",
    "#         self.en_word2idx = word2idx\n",
    "#         self.en_idx2word = idx2word        \n",
    "        \n",
    "        return word2idx\n",
    "    \n",
    "    def get_decoder_word2idx(self):\n",
    "        \n",
    "        with open(os.path.join(self.processed_data, \"decoder_word2idx.pickle\"), \"rb\") as file:\n",
    "            word2idx = pickle.load(file)\n",
    "        with open(os.path.join(self.processed_data, \"decoder_idx2word.pickle\"), \"rb\") as file:\n",
    "            idx2word = pickle.load(file)\n",
    "            \n",
    "#         self.de_word2idx = word2idx\n",
    "#         self.de_idx2word = idx2word\n",
    "        \n",
    "        return word2idx\n",
    "    \n",
    "    def get_encoder(self):\n",
    "        print(\"Loading GloVe embeddings...\")\n",
    "        glove = GloveEmbeddings(self.embed_dim, self.encoder_word2idx)\n",
    "        embedding_matrix = glove.get_embedding_matrix()\n",
    "        print(\"Loading Encoder...\")\n",
    "        encoder = LSTMEncoder(input_size = self.encoder_input_size, embed_dim = self.embed_dim, \n",
    "                              hidden_units=self.encoder_hidden_units, num_layers=self.encoder_num_layers, p = 0.3, bidirectional=False, embed_matrix=embedding_matrix)\n",
    "        \n",
    "        return encoder\n",
    "    \n",
    "    def get_decoder(self):\n",
    "        \n",
    "        if self.model_type == \"Seq2Seq\":\n",
    "            print(\"Loading Seq2Seq LSTM Decoder...\")\n",
    "            decoder = LSTMDecoder(input_size = self.decoder_input_size, embed_dim = self.embed_dim, \n",
    "                              hidden_units=self.decoder_hidden_units, num_layers=self.decoder_num_layers, p = 0.3)\n",
    "        \n",
    "        elif self.model_type == \"Seq2SeqAttn\":\n",
    "            pass\n",
    "        else:\n",
    "            pass\n",
    "        return decoder\n",
    "        \n",
    "    def forward(self, question, query, tf_ratio=0.5):\n",
    "        batch_size = question.shape[0]\n",
    "        target_len = query.shape[1]\n",
    "        \n",
    "        _, (hidden, cell) = self.encoder(question)\n",
    "        \n",
    "        target_vocab_size = self.decoder_input_size\n",
    "        outputs = torch.zeros(batch_size, target_len, target_vocab_size).to(device)\n",
    "        \n",
    "        x = query[:,0]\n",
    "        for t in range(1, target_len):\n",
    "            output, (hidden, cell) = self.decoder(x, (hidden, cell))\n",
    "#             print(\"Seq2seq out shape\", output.shape)\n",
    "            output = output.squeeze(1)\n",
    "            outputs[:,t,:] = output\n",
    "            x = output.argmax(dim=1)\n",
    "        \n",
    "        return outputs\n",
    "        \n",
    "        \n",
    "        \n",
    "\n",
    "    \n",
    "    \n"
   ]
  },
  {
   "cell_type": "code",
   "execution_count": null,
   "id": "69965e2b",
   "metadata": {},
   "outputs": [],
   "source": [
    "device = torch.device('cuda' if torch.cuda.is_available() else 'cpu')\n",
    "print(device)\n",
    "model = Seq2Seq(args).to(device)\n",
    "# Define the loss function and optimizer\n",
    "criterion = nn.CrossEntropyLoss(ignore_index=0)\n",
    "optimizer = torch.optim.Adam(model.parameters(), lr=0.0001)\n",
    "schedulers = [\n",
    "        optim.lr_scheduler.StepLR(optimizer, step_size=20, gamma=0.1, last_epoch=- 1, verbose=False),\n",
    "        optim.lr_scheduler.CosineAnnealingLR(optimizer, args.epochs, verbose=False)\n",
    "        ]\n",
    "scheduler =  schedulers[1]\n",
    "\n",
    "train_loader = DataLoader(train_dataset, batch_size = args.batch_size, shuffle=True, \n",
    "                          num_workers=args.num_workers, collate_fn=collate)\n",
    "for epoch in range(args.epochs):\n",
    "    print(\"Epoch:\", epoch)\n",
    "    for i, data in enumerate(train_loader):\n",
    "    #     print(data['question'].shape, data['query'].shape, data['ques_lens'].shape, data['query_lens'].shape)\n",
    "        optimizer.zero_grad()\n",
    "        question = data['question'].to(device)\n",
    "        query = data['query'].to(device)\n",
    "        output = model(question, query)\n",
    "    #     print(\"output and target\", output.shape, query.shape)\n",
    "        output = output.reshape(-1, output.shape[2])\n",
    "        query = query.reshape(-1)    \n",
    "    #     print(\"reshaped output and target\", output.shape, query.shape)\n",
    "        loss = criterion(output, query)\n",
    "        loss.backward()\n",
    "        \n",
    "        optimizer.step()\n",
    "        if i % 100 == 0:\n",
    "            print(loss.item())\n",
    "    scheduler.step()\n",
    "#     break\n",
    "    "
   ]
  },
  {
   "cell_type": "code",
   "execution_count": 133,
   "id": "d852558f",
   "metadata": {},
   "outputs": [
    {
     "name": "stdout",
     "output_type": "stream",
     "text": [
      "Mon Mar 20 10:11:45 2023       \n",
      "+-----------------------------------------------------------------------------+\n",
      "| NVIDIA-SMI 470.63.01    Driver Version: 470.63.01    CUDA Version: 11.4     |\n",
      "|-------------------------------+----------------------+----------------------+\n",
      "| GPU  Name        Persistence-M| Bus-Id        Disp.A | Volatile Uncorr. ECC |\n",
      "| Fan  Temp  Perf  Pwr:Usage/Cap|         Memory-Usage | GPU-Util  Compute M. |\n",
      "|                               |                      |               MIG M. |\n",
      "|===============================+======================+======================|\n",
      "|   0  Quadro RTX 5000     Off  | 00000000:C1:00.0 Off |                  Off |\n",
      "| 33%   29C    P8    16W / 230W |   1375MiB / 16125MiB |      0%      Default |\n",
      "|                               |                      |                  N/A |\n",
      "+-------------------------------+----------------------+----------------------+\n",
      "                                                                               \n",
      "+-----------------------------------------------------------------------------+\n",
      "| Processes:                                                                  |\n",
      "|  GPU   GI   CI        PID   Type   Process name                  GPU Memory |\n",
      "|        ID   ID                                                   Usage      |\n",
      "|=============================================================================|\n",
      "|    0   N/A  N/A     36653      C   ...0/anaconda3/bin/python3.7     1259MiB |\n",
      "|    0   N/A  N/A     41115      C   ...ffice/program/soffice.bin      113MiB |\n",
      "+-----------------------------------------------------------------------------+\n"
     ]
    }
   ],
   "source": [
    "!nvidia-smi"
   ]
  },
  {
   "cell_type": "code",
   "execution_count": 6,
   "id": "75f66c5d",
   "metadata": {},
   "outputs": [],
   "source": [
    "class ARGS():\n",
    "    def __init__(self):\n",
    "        self.model_type = \"Seq2Seq\"\n",
    "        self.data_dir = \"./data\"\n",
    "        self.batch_size = 16\n",
    "        self.num_workers = 8\n",
    "        self.epochs = 100\n",
    "        self.en_hidden = 512\n",
    "        self.de_hidden = 512\n",
    "        self.en_num_layers = 1\n",
    "        self.de_num_layers = 1\n",
    "        self.embed_dim = 300\n",
    "        self.processed_data = \"./processed_data/\"\n",
    "        \n",
    "args = ARGS()\n",
    "\n",
    "def get_parser():\n",
    "    \"\"\"\n",
    "    Generate a parameter parser\n",
    "    \"\"\"\n",
    "    # parse parameters\n",
    "    parser = argparse.ArgumentParser(description=\"Text2SQL\")\n",
    "    \n",
    "    # model type\n",
    "    parser.add_argument(\"--model_type\", type=str, default=\"Seq2Seq\", help=\"Select the model you want to run from [Seq2Seq, Seq2SeqAttn].\")\n",
    "\n",
    "    # path to data files.\n",
    "    parser.add_argument(\"--data_dir\", type=str, default=\"./data\", help=\"Path to dataset directory.\")\n",
    "\n",
    "    # path to result files.\n",
    "    parser.add_argument(\"--result_dir\", type=str, default=\"./results\", help=\"Path to dataset directory.\")\n",
    "\n",
    "    # path to model checkpoints.\n",
    "    parser.add_argument(\"--checkpoint_dir\", type=str, default=\"./checkpoints\", help=\"Path to model checkpoints.\")\n",
    "    \n",
    "    # path to model checkpoints.\n",
    "    parser.add_argument(\"--processed_data\", type=str, default=\"./processed_data\", help=\"Path to processed data.\")\n",
    "\n",
    "    # batch size training\n",
    "    parser.add_argument(\"--batch_size\", type=int, default=16, help=\"Batch size to be used during training.\")\n",
    "\n",
    "    # number of workers for dataloader\n",
    "    parser.add_argument(\"--num_workers\", type=int, default=8, help=\"Number of workers used for dataloading.\")\n",
    "\n",
    "    # max number of epochs\n",
    "    parser.add_argument(\"--epochs\", type=int, default=100, help=\"Number of workers used for dataloading.\")\n",
    "\n",
    "    parser.add_argument(\"--en_hidden\", type=int, default=512, help=\"Encoder Hidden Units\")\n",
    "    \n",
    "    parser.add_argument(\"--de_hidden\", type=int, default=512, help=\"Decoder Hidden Units\")\n",
    "\n",
    "    parser.add_argument(\"--en_num_layers\", type=int, default=1, help=\"Number of lstm layers in encoder.\")\n",
    "    \n",
    "    parser.add_argument(\"--de_num_layers\", type=int, default=1, help=\"Number of lstm layers in decoder.\")    \n",
    "    \n",
    "    parser.add_argument(\"--embed_dim\", type=int, default=300, help=\"Embeddings dimension for both encoder and decoder.\")\n",
    "\n",
    "    return parser\n",
    "# parser = get_parser()\n",
    "# args = parser.parse_args()\n",
    "# args.data_dir = os.path.relpath(args.data_dir)\n",
    "# print(args)\n"
   ]
  },
  {
   "cell_type": "code",
   "execution_count": 3,
   "id": "77324fc2",
   "metadata": {},
   "outputs": [
    {
     "data": {
      "text/html": [
       "<div>\n",
       "<style scoped>\n",
       "    .dataframe tbody tr th:only-of-type {\n",
       "        vertical-align: middle;\n",
       "    }\n",
       "\n",
       "    .dataframe tbody tr th {\n",
       "        vertical-align: top;\n",
       "    }\n",
       "\n",
       "    .dataframe thead th {\n",
       "        text-align: right;\n",
       "    }\n",
       "</style>\n",
       "<table border=\"1\" class=\"dataframe\">\n",
       "  <thead>\n",
       "    <tr style=\"text-align: right;\">\n",
       "      <th></th>\n",
       "      <th>db_id</th>\n",
       "      <th>question</th>\n",
       "      <th>query</th>\n",
       "      <th>orig_query</th>\n",
       "    </tr>\n",
       "  </thead>\n",
       "  <tbody>\n",
       "    <tr>\n",
       "      <th>0</th>\n",
       "      <td>music_1</td>\n",
       "      <td>what is the most popular file format ?</td>\n",
       "      <td>select formats from files group by formats ord...</td>\n",
       "      <td>select formats from files group by formats ord...</td>\n",
       "    </tr>\n",
       "    <tr>\n",
       "      <th>1</th>\n",
       "      <td>scholar</td>\n",
       "      <td>who is the most published author in syntactic ...</td>\n",
       "      <td>select distinct count ( t4 . paperid ) , t3 . ...</td>\n",
       "      <td>select distinct count ( t4.paperid )  ,  t3.au...</td>\n",
       "    </tr>\n",
       "    <tr>\n",
       "      <th>2</th>\n",
       "      <td>flight_4</td>\n",
       "      <td>find the name of airline which runs the most n...</td>\n",
       "      <td>select t1 . name from airlines as t1 join rout...</td>\n",
       "      <td>select t1.name from airlines as t1 join routes...</td>\n",
       "    </tr>\n",
       "    <tr>\n",
       "      <th>3</th>\n",
       "      <td>cre_Docs_and_Epenses</td>\n",
       "      <td>how many documents have expenses ?</td>\n",
       "      <td>select count ( * ) from documents_with_expenses</td>\n",
       "      <td>select count(*) from documents_with_expenses</td>\n",
       "    </tr>\n",
       "    <tr>\n",
       "      <th>4</th>\n",
       "      <td>machine_repair</td>\n",
       "      <td>list the names of technicians in ascending ord...</td>\n",
       "      <td>select name from technician order by age asc</td>\n",
       "      <td>select name from technician order by age asc</td>\n",
       "    </tr>\n",
       "  </tbody>\n",
       "</table>\n",
       "</div>"
      ],
      "text/plain": [
       "                  db_id                                           question  \\\n",
       "0               music_1             what is the most popular file format ?   \n",
       "1               scholar  who is the most published author in syntactic ...   \n",
       "2              flight_4  find the name of airline which runs the most n...   \n",
       "3  cre_Docs_and_Epenses                 how many documents have expenses ?   \n",
       "4        machine_repair  list the names of technicians in ascending ord...   \n",
       "\n",
       "                                               query  \\\n",
       "0  select formats from files group by formats ord...   \n",
       "1  select distinct count ( t4 . paperid ) , t3 . ...   \n",
       "2  select t1 . name from airlines as t1 join rout...   \n",
       "3    select count ( * ) from documents_with_expenses   \n",
       "4       select name from technician order by age asc   \n",
       "\n",
       "                                          orig_query  \n",
       "0  select formats from files group by formats ord...  \n",
       "1  select distinct count ( t4.paperid )  ,  t3.au...  \n",
       "2  select t1.name from airlines as t1 join routes...  \n",
       "3       select count(*) from documents_with_expenses  \n",
       "4       select name from technician order by age asc  "
      ]
     },
     "execution_count": 3,
     "metadata": {},
     "output_type": "execute_result"
    }
   ],
   "source": [
    "import pandas as pd\n",
    "import numpy as np\n",
    "df = pd.read_excel(\"./processed_data/val_data.xlsx\")\n",
    "df.head()"
   ]
  },
  {
   "cell_type": "code",
   "execution_count": 5,
   "id": "183d59ee",
   "metadata": {},
   "outputs": [
    {
     "data": {
      "text/plain": [
       "3    cre_Docs_and_Epenses\n",
       "1                 scholar\n",
       "4          machine_repair\n",
       "Name: db_id, dtype: object"
      ]
     },
     "execution_count": 5,
     "metadata": {},
     "output_type": "execute_result"
    }
   ],
   "source": [
    "df.loc[np.array([3,1,4]), 'db_id']"
   ]
  },
  {
   "cell_type": "code",
   "execution_count": 6,
   "id": "351604ba",
   "metadata": {},
   "outputs": [
    {
     "data": {
      "text/plain": [
       "array([1, 3, 4])"
      ]
     },
     "execution_count": 6,
     "metadata": {},
     "output_type": "execute_result"
    }
   ],
   "source": [
    "np.sort(np.array([3,1,4]))"
   ]
  },
  {
   "cell_type": "code",
   "execution_count": 16,
   "id": "830620e6",
   "metadata": {},
   "outputs": [
    {
     "data": {
      "text/plain": [
       "('all', '1939', '0.000', '0.000')"
      ]
     },
     "execution_count": 16,
     "metadata": {},
     "output_type": "execute_result"
    }
   ],
   "source": [
    "with open(\"./results/seq2seq/train_eval_results.txt\", \"r\") as file:\n",
    "    data = file.readlines()\n",
    "    \n",
    "data[0].split()[-1], data[1].split()[-1], data[3].split()[-1], data[6].split()[-1]"
   ]
  },
  {
   "cell_type": "code",
   "execution_count": 20,
   "id": "23b983d4",
   "metadata": {},
   "outputs": [
    {
     "data": {
      "text/plain": [
       "tensor([[ 1.8804, -0.6410, -1.2031,  1.0786,  0.7089]])"
      ]
     },
     "execution_count": 20,
     "metadata": {},
     "output_type": "execute_result"
    }
   ],
   "source": [
    "import torch\n",
    "a = torch.randn(1, 5)\n",
    "a"
   ]
  },
  {
   "cell_type": "code",
   "execution_count": 23,
   "id": "a8192784",
   "metadata": {},
   "outputs": [
    {
     "data": {
      "text/plain": [
       "(tensor([[1.8804, 1.0786, 0.7089]]), tensor([[0, 3, 4]]))"
      ]
     },
     "execution_count": 23,
     "metadata": {},
     "output_type": "execute_result"
    }
   ],
   "source": [
    "v, i = a.topk(3, dim=1)\n",
    "v, i"
   ]
  },
  {
   "cell_type": "code",
   "execution_count": 24,
   "id": "f142d8a0",
   "metadata": {},
   "outputs": [
    {
     "name": "stdout",
     "output_type": "stream",
     "text": [
      "0 tensor([0, 3, 4])\n"
     ]
    }
   ],
   "source": [
    "for j, ind in enumerate(i):\n",
    "    print(j, ind)\n",
    "    "
   ]
  },
  {
   "cell_type": "code",
   "execution_count": 10,
   "id": "b33365fc",
   "metadata": {},
   "outputs": [],
   "source": [
    "from transformers import BertTokenizer, BertModel"
   ]
  },
  {
   "cell_type": "code",
   "execution_count": 4,
   "id": "a8f7b147",
   "metadata": {},
   "outputs": [],
   "source": [
    "tokenizer = BertTokenizer.from_pretrained('bert-base-cased')"
   ]
  },
  {
   "cell_type": "code",
   "execution_count": 5,
   "id": "8c1ca69d",
   "metadata": {},
   "outputs": [],
   "source": [
    "sentences = [\"what is your name and what the fuck are you doing?\", \"What the hell is this\"]"
   ]
  },
  {
   "cell_type": "code",
   "execution_count": 6,
   "id": "2f089773",
   "metadata": {},
   "outputs": [],
   "source": [
    "encoding = tokenizer(sentences,return_tensors='pt', padding=True, truncation=True)"
   ]
  },
  {
   "cell_type": "code",
   "execution_count": 7,
   "id": "6b2ceb50",
   "metadata": {},
   "outputs": [
    {
     "data": {
      "text/plain": [
       "tensor([[ 101, 1184, 1110, 1240, 1271, 1105, 1184, 1103, 9367, 1132, 1128, 1833,\n",
       "          136,  102],\n",
       "        [ 101, 1327, 1103, 2630, 1110, 1142,  102,    0,    0,    0,    0,    0,\n",
       "            0,    0]])"
      ]
     },
     "execution_count": 7,
     "metadata": {},
     "output_type": "execute_result"
    }
   ],
   "source": [
    "encoding[\"input_ids\"]"
   ]
  },
  {
   "cell_type": "code",
   "execution_count": 8,
   "id": "df2613a8",
   "metadata": {},
   "outputs": [
    {
     "data": {
      "text/plain": [
       "tensor([[1, 1, 1, 1, 1, 1, 1, 1, 1, 1, 1, 1, 1, 1],\n",
       "        [1, 1, 1, 1, 1, 1, 1, 0, 0, 0, 0, 0, 0, 0]])"
      ]
     },
     "execution_count": 8,
     "metadata": {},
     "output_type": "execute_result"
    }
   ],
   "source": [
    "encoding[\"attention_mask\"]"
   ]
  },
  {
   "cell_type": "code",
   "execution_count": 39,
   "id": "a128f2e0",
   "metadata": {},
   "outputs": [
    {
     "data": {
      "text/plain": [
       "transformers.tokenization_utils_base.BatchEncoding"
      ]
     },
     "execution_count": 39,
     "metadata": {},
     "output_type": "execute_result"
    }
   ],
   "source": [
    "type(encoding)"
   ]
  },
  {
   "cell_type": "code",
   "execution_count": 38,
   "id": "190c7332",
   "metadata": {},
   "outputs": [
    {
     "data": {
      "text/plain": [
       "[101,\n",
       " 1184,\n",
       " 1110,\n",
       " 1240,\n",
       " 1271,\n",
       " 1105,\n",
       " 1184,\n",
       " 1103,\n",
       " 9367,\n",
       " 1132,\n",
       " 1128,\n",
       " 1833,\n",
       " 136,\n",
       " 102]"
      ]
     },
     "execution_count": 38,
     "metadata": {},
     "output_type": "execute_result"
    }
   ],
   "source": [
    "tokenizer.encode(sentences[0])\n",
    "tokenizer.att"
   ]
  },
  {
   "cell_type": "code",
   "execution_count": 11,
   "id": "99b003cf",
   "metadata": {},
   "outputs": [
    {
     "data": {
      "application/vnd.jupyter.widget-view+json": {
       "model_id": "cce9ec22896a42ecbab86f149b75af36",
       "version_major": 2,
       "version_minor": 0
      },
      "text/plain": [
       "Downloading pytorch_model.bin:   0%|          | 0.00/436M [00:00<?, ?B/s]"
      ]
     },
     "metadata": {},
     "output_type": "display_data"
    },
    {
     "name": "stderr",
     "output_type": "stream",
     "text": [
      "Some weights of the model checkpoint at bert-base-cased were not used when initializing BertModel: ['cls.seq_relationship.bias', 'cls.predictions.transform.dense.weight', 'cls.predictions.transform.LayerNorm.bias', 'cls.predictions.transform.dense.bias', 'cls.predictions.decoder.weight', 'cls.seq_relationship.weight', 'cls.predictions.transform.LayerNorm.weight', 'cls.predictions.bias']\n",
      "- This IS expected if you are initializing BertModel from the checkpoint of a model trained on another task or with another architecture (e.g. initializing a BertForSequenceClassification model from a BertForPreTraining model).\n",
      "- This IS NOT expected if you are initializing BertModel from the checkpoint of a model that you expect to be exactly identical (initializing a BertForSequenceClassification model from a BertForSequenceClassification model).\n"
     ]
    }
   ],
   "source": [
    "model = BertModel.from_pretrained(\"bert-base-cased\")"
   ]
  },
  {
   "cell_type": "code",
   "execution_count": 22,
   "id": "f52effc8",
   "metadata": {},
   "outputs": [],
   "source": [
    "out = model(**encoding)"
   ]
  },
  {
   "cell_type": "code",
   "execution_count": 19,
   "id": "1209c82d",
   "metadata": {},
   "outputs": [
    {
     "data": {
      "text/plain": [
       "torch.Size([2, 14, 768])"
      ]
     },
     "execution_count": 19,
     "metadata": {},
     "output_type": "execute_result"
    }
   ],
   "source": [
    "out[\"last_hidden_state\"].shape"
   ]
  },
  {
   "cell_type": "code",
   "execution_count": 21,
   "id": "db43cd78",
   "metadata": {},
   "outputs": [
    {
     "data": {
      "text/plain": [
       "tensor([[[ 0.3729,  0.1147,  0.1001,  ..., -0.0861,  0.3471, -0.3148],\n",
       "         [ 0.7357, -0.6554,  0.7085,  ..., -0.5736, -0.0645, -0.2666],\n",
       "         [ 0.5696,  0.1358, -0.0218,  ..., -0.2349,  0.0239, -0.1064],\n",
       "         ...,\n",
       "         [ 0.1431, -0.2598,  0.1951,  ...,  0.1730, -0.0361, -0.3128],\n",
       "         [ 0.4469, -0.4143, -0.0081,  ...,  0.1368,  0.0194,  0.0584],\n",
       "         [ 1.0860, -0.8176, -0.6764,  ...,  0.2978,  0.7109, -0.5961]],\n",
       "\n",
       "        [[ 0.4141,  0.5203,  0.0739,  ..., -0.0476,  0.3850, -0.2247],\n",
       "         [ 0.5971, -0.3388,  0.5496,  ..., -0.1808, -0.0893,  0.0762],\n",
       "         [-0.3980, -0.1015,  0.4205,  ...,  0.8113, -0.1913,  0.2015],\n",
       "         ...,\n",
       "         [-0.2750, -0.2226,  0.5174,  ..., -0.3173,  0.5100,  0.2175],\n",
       "         [-0.3253, -0.2268,  0.5394,  ..., -0.2931,  0.5409,  0.2074],\n",
       "         [-0.2908, -0.3561,  0.6060,  ..., -0.3801,  0.5311,  0.2349]]],\n",
       "       grad_fn=<NativeLayerNormBackward>)"
      ]
     },
     "execution_count": 21,
     "metadata": {},
     "output_type": "execute_result"
    }
   ],
   "source": [
    "out[\"last_hidden_state\"]"
   ]
  },
  {
   "cell_type": "code",
   "execution_count": 23,
   "id": "30d4194f",
   "metadata": {},
   "outputs": [
    {
     "data": {
      "text/plain": [
       "tensor([[[ 0.3729,  0.1147,  0.1001,  ..., -0.0861,  0.3471, -0.3148],\n",
       "         [ 0.7357, -0.6554,  0.7085,  ..., -0.5736, -0.0645, -0.2666],\n",
       "         [ 0.5696,  0.1358, -0.0218,  ..., -0.2349,  0.0239, -0.1064],\n",
       "         ...,\n",
       "         [ 0.1431, -0.2598,  0.1951,  ...,  0.1730, -0.0361, -0.3128],\n",
       "         [ 0.4469, -0.4143, -0.0081,  ...,  0.1368,  0.0194,  0.0584],\n",
       "         [ 1.0860, -0.8176, -0.6764,  ...,  0.2978,  0.7109, -0.5961]],\n",
       "\n",
       "        [[ 0.1984,  0.4940,  0.2771,  ..., -0.2891,  0.4426, -0.5308],\n",
       "         [ 0.2706, -0.0757,  0.3381,  ...,  0.2551, -0.3673, -0.0515],\n",
       "         [-0.3087,  0.0093,  0.6192,  ...,  0.4455, -0.1667,  0.0915],\n",
       "         ...,\n",
       "         [ 0.2430,  0.3112, -0.0756,  ...,  0.2716,  0.2578, -0.2025],\n",
       "         [ 0.2119,  0.4927, -0.2051,  ...,  0.1447,  0.2936, -0.3364],\n",
       "         [ 0.3320,  0.2555, -0.1233,  ...,  0.2283,  0.0179, -0.1682]]],\n",
       "       grad_fn=<NativeLayerNormBackward>)"
      ]
     },
     "execution_count": 23,
     "metadata": {},
     "output_type": "execute_result"
    }
   ],
   "source": [
    "out[\"last_hidden_state\"]"
   ]
  },
  {
   "cell_type": "code",
   "execution_count": 32,
   "id": "a43f3867",
   "metadata": {},
   "outputs": [
    {
     "name": "stderr",
     "output_type": "stream",
     "text": [
      "Some weights of the model checkpoint at bert-base-cased were not used when initializing BertModel: ['cls.seq_relationship.bias', 'cls.predictions.transform.dense.weight', 'cls.predictions.transform.LayerNorm.bias', 'cls.predictions.transform.dense.bias', 'cls.predictions.decoder.weight', 'cls.seq_relationship.weight', 'cls.predictions.transform.LayerNorm.weight', 'cls.predictions.bias']\n",
      "- This IS expected if you are initializing BertModel from the checkpoint of a model trained on another task or with another architecture (e.g. initializing a BertForSequenceClassification model from a BertForPreTraining model).\n",
      "- This IS NOT expected if you are initializing BertModel from the checkpoint of a model that you expect to be exactly identical (initializing a BertForSequenceClassification model from a BertForSequenceClassification model).\n"
     ]
    },
    {
     "name": "stdout",
     "output_type": "stream",
     "text": [
      "BERT Encoder with frozen embeddings.\n"
     ]
    }
   ],
   "source": [
    "bert_model = BertModel.from_pretrained('bert-base-cased')\n",
    "\n",
    "\n",
    "print(\"BERT Encoder with frozen embeddings.\")\n",
    "for name, param in bert_model.named_parameters():\n",
    "    param.requires_grad = False"
   ]
  },
  {
   "cell_type": "code",
   "execution_count": 36,
   "id": "b3235a7a",
   "metadata": {},
   "outputs": [],
   "source": [
    "for i in range(4):\n",
    "    for param in bert_model.encoder.layer[i].parameters():\n",
    "        param.requires_grad = True"
   ]
  },
  {
   "cell_type": "code",
   "execution_count": 37,
   "id": "3beec5e2",
   "metadata": {},
   "outputs": [
    {
     "data": {
      "text/plain": [
       "(108310272, 28351488)"
      ]
     },
     "execution_count": 37,
     "metadata": {},
     "output_type": "execute_result"
    }
   ],
   "source": [
    "sum(p.numel() for p in bert_model.parameters()), sum(p.numel() for p in bert_model.parameters() if p.requires_grad)"
   ]
  },
  {
   "cell_type": "code",
   "execution_count": 30,
   "id": "d973541c",
   "metadata": {},
   "outputs": [
    {
     "data": {
      "text/plain": [
       "BertModel(\n",
       "  (embeddings): BertEmbeddings(\n",
       "    (word_embeddings): Embedding(28996, 768, padding_idx=0)\n",
       "    (position_embeddings): Embedding(512, 768)\n",
       "    (token_type_embeddings): Embedding(2, 768)\n",
       "    (LayerNorm): LayerNorm((768,), eps=1e-12, elementwise_affine=True)\n",
       "    (dropout): Dropout(p=0.1, inplace=False)\n",
       "  )\n",
       "  (encoder): BertEncoder(\n",
       "    (layer): ModuleList(\n",
       "      (0): BertLayer(\n",
       "        (attention): BertAttention(\n",
       "          (self): BertSelfAttention(\n",
       "            (query): Linear(in_features=768, out_features=768, bias=True)\n",
       "            (key): Linear(in_features=768, out_features=768, bias=True)\n",
       "            (value): Linear(in_features=768, out_features=768, bias=True)\n",
       "            (dropout): Dropout(p=0.1, inplace=False)\n",
       "          )\n",
       "          (output): BertSelfOutput(\n",
       "            (dense): Linear(in_features=768, out_features=768, bias=True)\n",
       "            (LayerNorm): LayerNorm((768,), eps=1e-12, elementwise_affine=True)\n",
       "            (dropout): Dropout(p=0.1, inplace=False)\n",
       "          )\n",
       "        )\n",
       "        (intermediate): BertIntermediate(\n",
       "          (dense): Linear(in_features=768, out_features=3072, bias=True)\n",
       "          (intermediate_act_fn): GELUActivation()\n",
       "        )\n",
       "        (output): BertOutput(\n",
       "          (dense): Linear(in_features=3072, out_features=768, bias=True)\n",
       "          (LayerNorm): LayerNorm((768,), eps=1e-12, elementwise_affine=True)\n",
       "          (dropout): Dropout(p=0.1, inplace=False)\n",
       "        )\n",
       "      )\n",
       "      (1): BertLayer(\n",
       "        (attention): BertAttention(\n",
       "          (self): BertSelfAttention(\n",
       "            (query): Linear(in_features=768, out_features=768, bias=True)\n",
       "            (key): Linear(in_features=768, out_features=768, bias=True)\n",
       "            (value): Linear(in_features=768, out_features=768, bias=True)\n",
       "            (dropout): Dropout(p=0.1, inplace=False)\n",
       "          )\n",
       "          (output): BertSelfOutput(\n",
       "            (dense): Linear(in_features=768, out_features=768, bias=True)\n",
       "            (LayerNorm): LayerNorm((768,), eps=1e-12, elementwise_affine=True)\n",
       "            (dropout): Dropout(p=0.1, inplace=False)\n",
       "          )\n",
       "        )\n",
       "        (intermediate): BertIntermediate(\n",
       "          (dense): Linear(in_features=768, out_features=3072, bias=True)\n",
       "          (intermediate_act_fn): GELUActivation()\n",
       "        )\n",
       "        (output): BertOutput(\n",
       "          (dense): Linear(in_features=3072, out_features=768, bias=True)\n",
       "          (LayerNorm): LayerNorm((768,), eps=1e-12, elementwise_affine=True)\n",
       "          (dropout): Dropout(p=0.1, inplace=False)\n",
       "        )\n",
       "      )\n",
       "      (2): BertLayer(\n",
       "        (attention): BertAttention(\n",
       "          (self): BertSelfAttention(\n",
       "            (query): Linear(in_features=768, out_features=768, bias=True)\n",
       "            (key): Linear(in_features=768, out_features=768, bias=True)\n",
       "            (value): Linear(in_features=768, out_features=768, bias=True)\n",
       "            (dropout): Dropout(p=0.1, inplace=False)\n",
       "          )\n",
       "          (output): BertSelfOutput(\n",
       "            (dense): Linear(in_features=768, out_features=768, bias=True)\n",
       "            (LayerNorm): LayerNorm((768,), eps=1e-12, elementwise_affine=True)\n",
       "            (dropout): Dropout(p=0.1, inplace=False)\n",
       "          )\n",
       "        )\n",
       "        (intermediate): BertIntermediate(\n",
       "          (dense): Linear(in_features=768, out_features=3072, bias=True)\n",
       "          (intermediate_act_fn): GELUActivation()\n",
       "        )\n",
       "        (output): BertOutput(\n",
       "          (dense): Linear(in_features=3072, out_features=768, bias=True)\n",
       "          (LayerNorm): LayerNorm((768,), eps=1e-12, elementwise_affine=True)\n",
       "          (dropout): Dropout(p=0.1, inplace=False)\n",
       "        )\n",
       "      )\n",
       "      (3): BertLayer(\n",
       "        (attention): BertAttention(\n",
       "          (self): BertSelfAttention(\n",
       "            (query): Linear(in_features=768, out_features=768, bias=True)\n",
       "            (key): Linear(in_features=768, out_features=768, bias=True)\n",
       "            (value): Linear(in_features=768, out_features=768, bias=True)\n",
       "            (dropout): Dropout(p=0.1, inplace=False)\n",
       "          )\n",
       "          (output): BertSelfOutput(\n",
       "            (dense): Linear(in_features=768, out_features=768, bias=True)\n",
       "            (LayerNorm): LayerNorm((768,), eps=1e-12, elementwise_affine=True)\n",
       "            (dropout): Dropout(p=0.1, inplace=False)\n",
       "          )\n",
       "        )\n",
       "        (intermediate): BertIntermediate(\n",
       "          (dense): Linear(in_features=768, out_features=3072, bias=True)\n",
       "          (intermediate_act_fn): GELUActivation()\n",
       "        )\n",
       "        (output): BertOutput(\n",
       "          (dense): Linear(in_features=3072, out_features=768, bias=True)\n",
       "          (LayerNorm): LayerNorm((768,), eps=1e-12, elementwise_affine=True)\n",
       "          (dropout): Dropout(p=0.1, inplace=False)\n",
       "        )\n",
       "      )\n",
       "      (4): BertLayer(\n",
       "        (attention): BertAttention(\n",
       "          (self): BertSelfAttention(\n",
       "            (query): Linear(in_features=768, out_features=768, bias=True)\n",
       "            (key): Linear(in_features=768, out_features=768, bias=True)\n",
       "            (value): Linear(in_features=768, out_features=768, bias=True)\n",
       "            (dropout): Dropout(p=0.1, inplace=False)\n",
       "          )\n",
       "          (output): BertSelfOutput(\n",
       "            (dense): Linear(in_features=768, out_features=768, bias=True)\n",
       "            (LayerNorm): LayerNorm((768,), eps=1e-12, elementwise_affine=True)\n",
       "            (dropout): Dropout(p=0.1, inplace=False)\n",
       "          )\n",
       "        )\n",
       "        (intermediate): BertIntermediate(\n",
       "          (dense): Linear(in_features=768, out_features=3072, bias=True)\n",
       "          (intermediate_act_fn): GELUActivation()\n",
       "        )\n",
       "        (output): BertOutput(\n",
       "          (dense): Linear(in_features=3072, out_features=768, bias=True)\n",
       "          (LayerNorm): LayerNorm((768,), eps=1e-12, elementwise_affine=True)\n",
       "          (dropout): Dropout(p=0.1, inplace=False)\n",
       "        )\n",
       "      )\n",
       "      (5): BertLayer(\n",
       "        (attention): BertAttention(\n",
       "          (self): BertSelfAttention(\n",
       "            (query): Linear(in_features=768, out_features=768, bias=True)\n",
       "            (key): Linear(in_features=768, out_features=768, bias=True)\n",
       "            (value): Linear(in_features=768, out_features=768, bias=True)\n",
       "            (dropout): Dropout(p=0.1, inplace=False)\n",
       "          )\n",
       "          (output): BertSelfOutput(\n",
       "            (dense): Linear(in_features=768, out_features=768, bias=True)\n",
       "            (LayerNorm): LayerNorm((768,), eps=1e-12, elementwise_affine=True)\n",
       "            (dropout): Dropout(p=0.1, inplace=False)\n",
       "          )\n",
       "        )\n",
       "        (intermediate): BertIntermediate(\n",
       "          (dense): Linear(in_features=768, out_features=3072, bias=True)\n",
       "          (intermediate_act_fn): GELUActivation()\n",
       "        )\n",
       "        (output): BertOutput(\n",
       "          (dense): Linear(in_features=3072, out_features=768, bias=True)\n",
       "          (LayerNorm): LayerNorm((768,), eps=1e-12, elementwise_affine=True)\n",
       "          (dropout): Dropout(p=0.1, inplace=False)\n",
       "        )\n",
       "      )\n",
       "      (6): BertLayer(\n",
       "        (attention): BertAttention(\n",
       "          (self): BertSelfAttention(\n",
       "            (query): Linear(in_features=768, out_features=768, bias=True)\n",
       "            (key): Linear(in_features=768, out_features=768, bias=True)\n",
       "            (value): Linear(in_features=768, out_features=768, bias=True)\n",
       "            (dropout): Dropout(p=0.1, inplace=False)\n",
       "          )\n",
       "          (output): BertSelfOutput(\n",
       "            (dense): Linear(in_features=768, out_features=768, bias=True)\n",
       "            (LayerNorm): LayerNorm((768,), eps=1e-12, elementwise_affine=True)\n",
       "            (dropout): Dropout(p=0.1, inplace=False)\n",
       "          )\n",
       "        )\n",
       "        (intermediate): BertIntermediate(\n",
       "          (dense): Linear(in_features=768, out_features=3072, bias=True)\n",
       "          (intermediate_act_fn): GELUActivation()\n",
       "        )\n",
       "        (output): BertOutput(\n",
       "          (dense): Linear(in_features=3072, out_features=768, bias=True)\n",
       "          (LayerNorm): LayerNorm((768,), eps=1e-12, elementwise_affine=True)\n",
       "          (dropout): Dropout(p=0.1, inplace=False)\n",
       "        )\n",
       "      )\n",
       "      (7): BertLayer(\n",
       "        (attention): BertAttention(\n",
       "          (self): BertSelfAttention(\n",
       "            (query): Linear(in_features=768, out_features=768, bias=True)\n",
       "            (key): Linear(in_features=768, out_features=768, bias=True)\n",
       "            (value): Linear(in_features=768, out_features=768, bias=True)\n",
       "            (dropout): Dropout(p=0.1, inplace=False)\n",
       "          )\n",
       "          (output): BertSelfOutput(\n",
       "            (dense): Linear(in_features=768, out_features=768, bias=True)\n",
       "            (LayerNorm): LayerNorm((768,), eps=1e-12, elementwise_affine=True)\n",
       "            (dropout): Dropout(p=0.1, inplace=False)\n",
       "          )\n",
       "        )\n",
       "        (intermediate): BertIntermediate(\n",
       "          (dense): Linear(in_features=768, out_features=3072, bias=True)\n",
       "          (intermediate_act_fn): GELUActivation()\n",
       "        )\n",
       "        (output): BertOutput(\n",
       "          (dense): Linear(in_features=3072, out_features=768, bias=True)\n",
       "          (LayerNorm): LayerNorm((768,), eps=1e-12, elementwise_affine=True)\n",
       "          (dropout): Dropout(p=0.1, inplace=False)\n",
       "        )\n",
       "      )\n",
       "      (8): BertLayer(\n",
       "        (attention): BertAttention(\n",
       "          (self): BertSelfAttention(\n",
       "            (query): Linear(in_features=768, out_features=768, bias=True)\n",
       "            (key): Linear(in_features=768, out_features=768, bias=True)\n",
       "            (value): Linear(in_features=768, out_features=768, bias=True)\n",
       "            (dropout): Dropout(p=0.1, inplace=False)\n",
       "          )\n",
       "          (output): BertSelfOutput(\n",
       "            (dense): Linear(in_features=768, out_features=768, bias=True)\n",
       "            (LayerNorm): LayerNorm((768,), eps=1e-12, elementwise_affine=True)\n",
       "            (dropout): Dropout(p=0.1, inplace=False)\n",
       "          )\n",
       "        )\n",
       "        (intermediate): BertIntermediate(\n",
       "          (dense): Linear(in_features=768, out_features=3072, bias=True)\n",
       "          (intermediate_act_fn): GELUActivation()\n",
       "        )\n",
       "        (output): BertOutput(\n",
       "          (dense): Linear(in_features=3072, out_features=768, bias=True)\n",
       "          (LayerNorm): LayerNorm((768,), eps=1e-12, elementwise_affine=True)\n",
       "          (dropout): Dropout(p=0.1, inplace=False)\n",
       "        )\n",
       "      )\n",
       "      (9): BertLayer(\n",
       "        (attention): BertAttention(\n",
       "          (self): BertSelfAttention(\n",
       "            (query): Linear(in_features=768, out_features=768, bias=True)\n",
       "            (key): Linear(in_features=768, out_features=768, bias=True)\n",
       "            (value): Linear(in_features=768, out_features=768, bias=True)\n",
       "            (dropout): Dropout(p=0.1, inplace=False)\n",
       "          )\n",
       "          (output): BertSelfOutput(\n",
       "            (dense): Linear(in_features=768, out_features=768, bias=True)\n",
       "            (LayerNorm): LayerNorm((768,), eps=1e-12, elementwise_affine=True)\n",
       "            (dropout): Dropout(p=0.1, inplace=False)\n",
       "          )\n",
       "        )\n",
       "        (intermediate): BertIntermediate(\n",
       "          (dense): Linear(in_features=768, out_features=3072, bias=True)\n",
       "          (intermediate_act_fn): GELUActivation()\n",
       "        )\n",
       "        (output): BertOutput(\n",
       "          (dense): Linear(in_features=3072, out_features=768, bias=True)\n",
       "          (LayerNorm): LayerNorm((768,), eps=1e-12, elementwise_affine=True)\n",
       "          (dropout): Dropout(p=0.1, inplace=False)\n",
       "        )\n",
       "      )\n",
       "      (10): BertLayer(\n",
       "        (attention): BertAttention(\n",
       "          (self): BertSelfAttention(\n",
       "            (query): Linear(in_features=768, out_features=768, bias=True)\n",
       "            (key): Linear(in_features=768, out_features=768, bias=True)\n",
       "            (value): Linear(in_features=768, out_features=768, bias=True)\n",
       "            (dropout): Dropout(p=0.1, inplace=False)\n",
       "          )\n",
       "          (output): BertSelfOutput(\n",
       "            (dense): Linear(in_features=768, out_features=768, bias=True)\n",
       "            (LayerNorm): LayerNorm((768,), eps=1e-12, elementwise_affine=True)\n",
       "            (dropout): Dropout(p=0.1, inplace=False)\n",
       "          )\n",
       "        )\n",
       "        (intermediate): BertIntermediate(\n",
       "          (dense): Linear(in_features=768, out_features=3072, bias=True)\n",
       "          (intermediate_act_fn): GELUActivation()\n",
       "        )\n",
       "        (output): BertOutput(\n",
       "          (dense): Linear(in_features=3072, out_features=768, bias=True)\n",
       "          (LayerNorm): LayerNorm((768,), eps=1e-12, elementwise_affine=True)\n",
       "          (dropout): Dropout(p=0.1, inplace=False)\n",
       "        )\n",
       "      )\n",
       "      (11): BertLayer(\n",
       "        (attention): BertAttention(\n",
       "          (self): BertSelfAttention(\n",
       "            (query): Linear(in_features=768, out_features=768, bias=True)\n",
       "            (key): Linear(in_features=768, out_features=768, bias=True)\n",
       "            (value): Linear(in_features=768, out_features=768, bias=True)\n",
       "            (dropout): Dropout(p=0.1, inplace=False)\n",
       "          )\n",
       "          (output): BertSelfOutput(\n",
       "            (dense): Linear(in_features=768, out_features=768, bias=True)\n",
       "            (LayerNorm): LayerNorm((768,), eps=1e-12, elementwise_affine=True)\n",
       "            (dropout): Dropout(p=0.1, inplace=False)\n",
       "          )\n",
       "        )\n",
       "        (intermediate): BertIntermediate(\n",
       "          (dense): Linear(in_features=768, out_features=3072, bias=True)\n",
       "          (intermediate_act_fn): GELUActivation()\n",
       "        )\n",
       "        (output): BertOutput(\n",
       "          (dense): Linear(in_features=3072, out_features=768, bias=True)\n",
       "          (LayerNorm): LayerNorm((768,), eps=1e-12, elementwise_affine=True)\n",
       "          (dropout): Dropout(p=0.1, inplace=False)\n",
       "        )\n",
       "      )\n",
       "    )\n",
       "  )\n",
       "  (pooler): BertPooler(\n",
       "    (dense): Linear(in_features=768, out_features=768, bias=True)\n",
       "    (activation): Tanh()\n",
       "  )\n",
       ")"
      ]
     },
     "execution_count": 30,
     "metadata": {},
     "output_type": "execute_result"
    }
   ],
   "source": [
    "bert_model.bert.parameters()"
   ]
  },
  {
   "cell_type": "code",
   "execution_count": 41,
   "id": "0e939bbf",
   "metadata": {},
   "outputs": [],
   "source": [
    "import os\n",
    "from time import time\n",
    "import numpy as np\n",
    "import matplotlib.pyplot as plt\n",
    "import json"
   ]
  },
  {
   "cell_type": "code",
   "execution_count": 48,
   "id": "c41b9faf",
   "metadata": {},
   "outputs": [],
   "source": [
    "import json\n",
    "with open(\"./results/to_generate_plots/loss_trackerlstm_lstm.json\", \"r+\") as file:\n",
    "    loss1 = json.load(file)\n",
    "\n",
    "with open(\"./results/to_generate_plots/loss_trackerlstm_lstm_attn.json\", \"r+\") as file:\n",
    "    loss2 = json.load(file)\n",
    "    \n",
    "with open(\"./results/to_generate_plots/loss_trackerbert_lstm_attn_frozen.json\", \"r+\") as file:\n",
    "    loss3 = json.load(file)\n",
    "\n",
    "with open(\"./results/to_generate_plots/loss_trackerbert_lstm_attn_tuned.json\", \"r+\") as file:\n",
    "    loss4 = json.load(file)\n"
   ]
  },
  {
   "cell_type": "code",
   "execution_count": 54,
   "id": "dccc03fc",
   "metadata": {},
   "outputs": [
    {
     "data": {
      "image/png": "[encoded data removed]",
      "text/plain": [
       "<Figure size 432x288 with 1 Axes>"
      ]
     },
     "metadata": {
      "needs_background": "light"
     },
     "output_type": "display_data"
    },
    {
     "data": {
      "image/png": "[encoded data removed]",
      "text/plain": [
       "<Figure size 432x288 with 1 Axes>"
      ]
     },
     "metadata": {
      "needs_background": "light"
     },
     "output_type": "display_data"
    },
    {
     "data": {
      "image/png": "[encoded data removed]",
      "text/plain": [
       "<Figure size 432x288 with 1 Axes>"
      ]
     },
     "metadata": {
      "needs_background": "light"
     },
     "output_type": "display_data"
    },
    {
     "data": {
      "image/png": "[encoded data removed]",
      "text/plain": [
       "<Figure size 432x288 with 1 Axes>"
      ]
     },
     "metadata": {
      "needs_background": "light"
     },
     "output_type": "display_data"
    }
   ],
   "source": [
    "fig = plt.figure(2)\n",
    "plt.plot(list(range(len(loss1['train']))), loss1['train'], c=\"tab:green\", label=\"Train Loss\")\n",
    "plt.plot(list(range(len(loss1['val']))), loss1['val'], c=\"tab:orange\", label=\"Val Loss\")\n",
    "plt.title(f\"Train and Val Loss Curves. Model: lstm_lstm\")\n",
    "plt.xlabel(\"# Epochs\")\n",
    "plt.ylabel(\"Loss Values\")\n",
    "plt.legend()\n",
    "fig.savefig(os.path.join(\"./results/plots\", \"loss_lstm_lstm.png\"), dpi= 300, pad_inches=0.1, format=\"png\")\n",
    "fig.savefig(os.path.join(\"./results/plots\", \"loss_lstm_lstm.pdf\"), dpi= 300, pad_inches=0.1)\n",
    "\n",
    "fig = plt.figure(3)\n",
    "plt.plot(list(range(len(loss2['train']))), loss2['train'], c=\"tab:green\", label=\"Train Loss\")\n",
    "plt.plot(list(range(len(loss2['val']))), loss2['val'], c=\"tab:orange\", label=\"Val Loss\")\n",
    "plt.title(f\"Train and Val Loss Curves. Model: lstm_lstm_attn\")\n",
    "plt.xlabel(\"# Epochs\")\n",
    "plt.ylabel(\"Loss Values\")\n",
    "plt.legend()\n",
    "fig.savefig(os.path.join(\"./results/plots\", \"loss_lstm_lstm_attn.png\"), dpi= 300, pad_inches=0.1, format=\"png\")\n",
    "fig.savefig(os.path.join(\"./results/plots\", \"loss_lstm_lstm_attn.pdf\"), dpi= 300, pad_inches=0.1)\n",
    "\n",
    "fig = plt.figure(4)\n",
    "plt.plot(list(range(len(loss3['train']))), loss3['train'], c=\"tab:green\", label=\"Train Loss\")\n",
    "plt.plot(list(range(len(loss3['val']))), loss3['val'], c=\"tab:orange\", label=\"Val Loss\")\n",
    "plt.title(f\"Train and Val Loss Curves. Model: bert_lstm_frozen\")\n",
    "plt.xlabel(\"# Epochs\")\n",
    "plt.ylabel(\"Loss Values\")\n",
    "plt.legend()\n",
    "fig.savefig(os.path.join(\"./results/plots\", \"loss_bert_lstm_frozen.png\"), dpi= 300, pad_inches=0.1, format=\"png\")\n",
    "fig.savefig(os.path.join(\"./results/plots\", \"loss_bert_lstm_frozen.pdf\"), dpi= 300, pad_inches=0.1)\n",
    "\n",
    "fig = plt.figure(5)\n",
    "plt.plot(list(range(len(loss4['train']))), loss4['train'], c=\"tab:green\", label=\"Train Loss\")\n",
    "plt.plot(list(range(len(loss4['val']))), loss4['val'], c=\"tab:orange\", label=\"Val Loss\")\n",
    "plt.title(f\"Train and Val Loss Curves. Model: bert_lstm_tuned\")\n",
    "plt.xlabel(\"# Epochs\")\n",
    "plt.ylabel(\"Loss Values\")\n",
    "plt.legend()\n",
    "fig.savefig(os.path.join(\"./results/plots\", \"loss_bert_lstm_tuned.png\"), dpi= 300, pad_inches=0.1, format=\"png\")\n",
    "fig.savefig(os.path.join(\"./results/plots\", \"loss_bert_lstm_tuned.pdf\"), dpi= 300, pad_inches=0.1)\n"
   ]
  },
  {
   "cell_type": "code",
   "execution_count": 53,
   "id": "e3de722c",
   "metadata": {},
   "outputs": [
    {
     "data": {
      "image/png": "[encoded data removed]",
      "text/plain": [
       "<Figure size 432x288 with 1 Axes>"
      ]
     },
     "metadata": {
      "needs_background": "light"
     },
     "output_type": "display_data"
    }
   ],
   "source": [
    "fig = plt.figure(2)\n",
    "plt.plot(list(range(len(loss1['train']))), loss1['train'], c=\"tab:green\", label=\"lstm_lstm\")\n",
    "plt.plot(list(range(len(loss2['train']))), loss2['train'], c=\"tab:orange\", label=\"lstm_lstm_attn\")\n",
    "plt.plot(list(range(len(loss3['train']))), loss3['train'], c=\"tab:blue\", label=\"bert_lstm_frozen\")\n",
    "plt.plot(list(range(len(loss4['train']))), loss4['train'], c=\"tab:red\", label=\"bert_lstm_tuned\")\n",
    "plt.title(f\"Train Loss Curves.\")\n",
    "plt.xlabel(\"# Epochs\")\n",
    "plt.ylabel(\"Loss Values\")\n",
    "plt.legend()\n",
    "fig.savefig(os.path.join(\"./results/plots\", \"train_loss_all.png\"), dpi= 300, pad_inches=0.1, format=\"png\")\n",
    "fig.savefig(os.path.join(\"./results/plots\", \"train_loss_all.pdf\"), dpi= 300, pad_inches=0.1)"
   ]
  },
  {
   "cell_type": "code",
   "execution_count": 52,
   "id": "d9fb95ed",
   "metadata": {},
   "outputs": [
    {
     "data": {
      "image/png": "[encoded data removed]",
      "text/plain": [
       "<Figure size 432x288 with 1 Axes>"
      ]
     },
     "metadata": {
      "needs_background": "light"
     },
     "output_type": "display_data"
    }
   ],
   "source": [
    "fig = plt.figure(2)\n",
    "plt.plot(list(range(len(loss1['val']))), loss1['val'], c=\"tab:green\", label=\"lstm_lstm\")\n",
    "plt.plot(list(range(len(loss2['val']))), loss2['val'], c=\"tab:orange\", label=\"lstm_lstm_attn\")\n",
    "plt.plot(list(range(len(loss3['val']))), loss3['val'], c=\"tab:blue\", label=\"bert_lstm_frozen\")\n",
    "plt.plot(list(range(len(loss4['val']))), loss4['val'], c=\"tab:red\", label=\"bert_lstm_tuned\")\n",
    "plt.title(f\"Val Loss Curves.\")\n",
    "plt.xlabel(\"# Epochs\")\n",
    "plt.ylabel(\"Loss Values\")\n",
    "plt.legend()\n",
    "fig.savefig(os.path.join(\"./results/plots\", \"val_loss_all.png\"), dpi= 300, pad_inches=0.1, format=\"png\")\n",
    "fig.savefig(os.path.join(\"./results/plots\", \"val_loss_all.pdf\"), dpi= 300, pad_inches=0.1)"
   ]
  },
  {
   "cell_type": "code",
   "execution_count": 65,
   "id": "646dce2d",
   "metadata": {},
   "outputs": [],
   "source": [
    "import csv\n",
    "with open(\"./lstm_lstm_attn_test_pred.txt\", \"r\") as f:\n",
    "        pred_file_content = f.readlines()\n",
    "df = pd.DataFrame([line.replace(\" \\n\", \"\") for line in pred_file_content])\n",
    "df.to_csv(\"test.csv\", index=False, header=False, quoting=csv.QUOTE_NONE,escapechar='\\\\')"
   ]
  },
  {
   "cell_type": "code",
   "execution_count": 68,
   "id": "5126f527",
   "metadata": {},
   "outputs": [
    {
     "data": {
      "text/html": [
       "<div>\n",
       "<style scoped>\n",
       "    .dataframe tbody tr th:only-of-type {\n",
       "        vertical-align: middle;\n",
       "    }\n",
       "\n",
       "    .dataframe tbody tr th {\n",
       "        vertical-align: top;\n",
       "    }\n",
       "\n",
       "    .dataframe thead th {\n",
       "        text-align: right;\n",
       "    }\n",
       "</style>\n",
       "<table border=\"1\" class=\"dataframe\">\n",
       "  <thead>\n",
       "    <tr style=\"text-align: right;\">\n",
       "      <th></th>\n",
       "      <th>0</th>\n",
       "    </tr>\n",
       "  </thead>\n",
       "  <tbody>\n",
       "    <tr>\n",
       "      <th>0</th>\n",
       "      <td>select ppos from files group by formats order ...</td>\n",
       "    </tr>\n",
       "    <tr>\n",
       "      <th>1</th>\n",
       "      <td>select distinct count ( t4 . paperid ) , t3 . ...</td>\n",
       "    </tr>\n",
       "    <tr>\n",
       "      <th>2</th>\n",
       "      <td>select t1 . name from airlines as t1 join rout...</td>\n",
       "    </tr>\n",
       "    <tr>\n",
       "      <th>3</th>\n",
       "      <td>select count ( * ) from documents_with_expenses</td>\n",
       "    </tr>\n",
       "    <tr>\n",
       "      <th>4</th>\n",
       "      <td>select name from technician order by age asc</td>\n",
       "    </tr>\n",
       "    <tr>\n",
       "      <th>...</th>\n",
       "      <td>...</td>\n",
       "    </tr>\n",
       "    <tr>\n",
       "      <th>1934</th>\n",
       "      <td>select grade from highschooler where name = \"K...</td>\n",
       "    </tr>\n",
       "    <tr>\n",
       "      <th>1935</th>\n",
       "      <td>select &lt;unk&gt; from assessment_notes</td>\n",
       "    </tr>\n",
       "    <tr>\n",
       "      <th>1936</th>\n",
       "      <td>select count ( * ) from country</td>\n",
       "    </tr>\n",
       "    <tr>\n",
       "      <th>1937</th>\n",
       "      <td>select count ( * ) from company</td>\n",
       "    </tr>\n",
       "    <tr>\n",
       "      <th>1938</th>\n",
       "      <td>select building from apartments where basepric...</td>\n",
       "    </tr>\n",
       "  </tbody>\n",
       "</table>\n",
       "<p>1939 rows × 1 columns</p>\n",
       "</div>"
      ],
      "text/plain": [
       "                                                      0\n",
       "0     select ppos from files group by formats order ...\n",
       "1     select distinct count ( t4 . paperid ) , t3 . ...\n",
       "2     select t1 . name from airlines as t1 join rout...\n",
       "3       select count ( * ) from documents_with_expenses\n",
       "4          select name from technician order by age asc\n",
       "...                                                 ...\n",
       "1934  select grade from highschooler where name = \"K...\n",
       "1935                 select <unk> from assessment_notes\n",
       "1936                    select count ( * ) from country\n",
       "1937                    select count ( * ) from company\n",
       "1938  select building from apartments where basepric...\n",
       "\n",
       "[1939 rows x 1 columns]"
      ]
     },
     "execution_count": 68,
     "metadata": {},
     "output_type": "execute_result"
    }
   ],
   "source": [
    "pd.read_csv(\"test.csv\", escapechar='\\\\', header=None)"
   ]
  },
  {
   "cell_type": "code",
   "execution_count": null,
   "id": "8f9ee6cf",
   "metadata": {},
   "outputs": [],
   "source": []
  }
 ],
 "metadata": {
  "kernelspec": {
   "display_name": "Python 3 (ipykernel)",
   "language": "python",
   "name": "python3"
  },
  "language_info": {
   "codemirror_mode": {
    "name": "ipython",
    "version": 3
   },
   "file_extension": ".py",
   "mimetype": "text/x-python",
   "name": "python",
   "nbconvert_exporter": "python",
   "pygments_lexer": "ipython3",
   "version": "3.7.6"
  }
 },
 "nbformat": 4,
 "nbformat_minor": 5
}
